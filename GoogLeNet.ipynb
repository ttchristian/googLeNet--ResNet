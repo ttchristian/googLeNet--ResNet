{
 "cells": [
  {
   "cell_type": "code",
   "execution_count": null,
   "id": "0f6d4f48",
   "metadata": {
    "ExecuteTime": {
     "end_time": "2025-06-23T20:32:19.245310Z",
     "start_time": "2025-06-23T20:32:19.240950Z"
    }
   },
   "outputs": [
    {
     "name": "stdout",
     "output_type": "stream",
     "text": [
      "NVIDIA GeForce RTX 5070 Ti\n"
     ]
    }
   ],
   "source": [
    "\n",
    "import torch\n",
    "import torch.nn as nn\n",
    "import torch.nn.functional as F\n",
    "from torchinfo import summary\n",
    "print(torch.cuda.get_device_name(0))"
   ]
  },
  {
   "cell_type": "code",
   "execution_count": null,
   "id": "40db945b",
   "metadata": {
    "ExecuteTime": {
     "end_time": "2025-06-23T20:32:19.334122Z",
     "start_time": "2025-06-23T20:32:19.252504Z"
    }
   },
   "outputs": [],
   "source": [
    "\n",
    "class BasicConv2d(nn.Module):\n",
    "    def __init__(self, in_channels, out_channels, **kwargs):\n",
    "        super().__init__()\n",
    "\n",
    "        self.conv = nn.Conv2d(in_channels, out_channels, bias=False, **kwargs)\n",
    "        self.bn = nn.BatchNorm2d(out_channels, eps=0.001)\n",
    "\n",
    "\n",
    "    def forward(self, x):\n",
    "\n",
    "        x = self.conv(x)\n",
    "        x = self.bn(x)\n",
    "        return F.relu(x, inplace=True)"
   ]
  },
  {
   "cell_type": "code",
   "execution_count": null,
   "id": "fb415deb",
   "metadata": {
    "ExecuteTime": {
     "end_time": "2025-06-23T20:32:19.353521Z",
     "start_time": "2025-06-23T20:32:19.349106Z"
    }
   },
   "outputs": [],
   "source": [
    "\n",
    "class Inception(nn.Module):\n",
    "\n",
    "\n",
    "    def __init__(self, in_channels, ch1x1, ch3x3red, ch3x3, ch5x5red, ch5x5, pool_proj):\n",
    "        super().__init__()\n",
    "\n",
    "        self.branch1 = BasicConv2d(in_channels, ch1x1, kernel_size=1)\n",
    "        self.branch2 = nn.Sequential(\n",
    "            BasicConv2d(in_channels, ch3x3red, kernel_size=1),\n",
    "            BasicConv2d(ch3x3red, ch3x3, kernel_size=3, padding=1)\n",
    "        )\n",
    "        self.branch3 = nn.Sequential(\n",
    "            BasicConv2d(in_channels, ch5x5red, kernel_size=1),\n",
    "            BasicConv2d(ch5x5red, ch5x5, kernel_size=5, padding=2)\n",
    "        )\n",
    "        self.branch4 = nn.Sequential(\n",
    "            nn.MaxPool2d(kernel_size=3, stride=1, padding=1),\n",
    "            BasicConv2d(in_channels, pool_proj, kernel_size=1)\n",
    "        )\n",
    "\n",
    "    def forward(self, x):\n",
    " \n",
    "        branch1 = self.branch1(x)\n",
    "        branch2 = self.branch2(x)\n",
    "        branch3 = self.branch3(x)\n",
    "        branch4 = self.branch4(x)\n",
    "\n",
    "\n",
    "        outputs = [branch1, branch2, branch3, branch4]\n",
    "        return torch.cat(outputs, dim=1)"
   ]
  },
  {
   "cell_type": "code",
   "execution_count": null,
   "id": "d35ec9ec",
   "metadata": {
    "ExecuteTime": {
     "end_time": "2025-06-23T20:32:19.396831Z",
     "start_time": "2025-06-23T20:32:19.391554Z"
    }
   },
   "outputs": [],
   "source": [
    "\n",
    "class GoogLeNet(nn.Module):\n",
    "\n",
    "    def __init__(self, num_classes=1000):\n",
    "        super().__init__()\n",
    "\n",
    "        self.part1 = nn.Sequential(\n",
    "            BasicConv2d(3, 64, kernel_size=7, stride=2, padding=3),\n",
    "            nn.MaxPool2d(3, stride=2, ceil_mode=True)\n",
    "        )\n",
    "\n",
    "        self.part2 = nn.Sequential(\n",
    "            BasicConv2d(64, 64, kernel_size=1),\n",
    "            BasicConv2d(64, 192, kernel_size=3, padding=1),\n",
    "            nn.MaxPool2d(3, stride=2, ceil_mode=True)\n",
    "        )\n",
    "    \n",
    "        self.part3 = nn.Sequential(\n",
    "            Inception(192, 64, 96, 128, 16, 32, 32),\n",
    "            Inception(256, 128, 128, 192, 32, 96, 64),\n",
    "            nn.MaxPool2d(3, stride=2, ceil_mode=True)\n",
    "        )\n",
    "\n",
    "        self.part4 = nn.Sequential(\n",
    "            Inception(480, 192, 96, 208, 16, 48, 64),\n",
    "            Inception(512, 160, 112, 224, 24, 64, 64),\n",
    "            Inception(512, 128, 128, 256, 24, 64, 64),\n",
    "            Inception(512, 112, 144, 288, 32, 64, 64),\n",
    "            Inception(528, 256, 160, 320, 32, 128, 128),\n",
    "            nn.MaxPool2d(3, stride=2, ceil_mode=True)\n",
    "        )\n",
    "\n",
    "        self.part5 = nn.Sequential(\n",
    "            Inception(832, 256, 160, 320, 32, 128, 128),\n",
    "            Inception(832, 384, 192, 384, 48, 128, 128),\n",
    "            nn.AdaptiveAvgPool2d((1, 1))\n",
    "        )\n",
    "   \n",
    "        self.part6 = nn.Sequential(\n",
    "            nn.Flatten(),\n",
    "            nn.Dropout(0.4),\n",
    "            nn.Linear(1024, num_classes)\n",
    "        )\n",
    "\n",
    "\n",
    "    def forward(self, x):\n",
    "     \n",
    "        x = self.part1(x)\n",
    "        x = self.part2(x)\n",
    "        x = self.part3(x)\n",
    "        x = self.part4(x)\n",
    "        x = self.part5(x)\n",
    "        x = self.part6(x)\n",
    "        return x"
   ]
  },
  {
   "cell_type": "code",
   "execution_count": null,
   "id": "cf4a91af",
   "metadata": {
    "ExecuteTime": {
     "end_time": "2025-06-23T20:32:19.553477Z",
     "start_time": "2025-06-23T20:32:19.443266Z"
    },
    "scrolled": true
   },
   "outputs": [
    {
     "data": {
      "text/plain": [
       "===============================================================================================\n",
       "Layer (type:depth-idx)                        Output Shape              Param #\n",
       "===============================================================================================\n",
       "GoogLeNet                                     [1, 1000]                 --\n",
       "├─Sequential: 1-1                             [1, 64, 56, 56]           --\n",
       "│    └─BasicConv2d: 2-1                       [1, 64, 112, 112]         --\n",
       "│    │    └─Conv2d: 3-1                       [1, 64, 112, 112]         9,408\n",
       "│    │    └─BatchNorm2d: 3-2                  [1, 64, 112, 112]         128\n",
       "│    └─MaxPool2d: 2-2                         [1, 64, 56, 56]           --\n",
       "├─Sequential: 1-2                             [1, 192, 28, 28]          --\n",
       "│    └─BasicConv2d: 2-3                       [1, 64, 56, 56]           --\n",
       "│    │    └─Conv2d: 3-3                       [1, 64, 56, 56]           4,096\n",
       "│    │    └─BatchNorm2d: 3-4                  [1, 64, 56, 56]           128\n",
       "│    └─BasicConv2d: 2-4                       [1, 192, 56, 56]          --\n",
       "│    │    └─Conv2d: 3-5                       [1, 192, 56, 56]          110,592\n",
       "│    │    └─BatchNorm2d: 3-6                  [1, 192, 56, 56]          384\n",
       "│    └─MaxPool2d: 2-5                         [1, 192, 28, 28]          --\n",
       "├─Sequential: 1-3                             [1, 480, 14, 14]          --\n",
       "│    └─Inception: 2-6                         [1, 256, 28, 28]          --\n",
       "│    │    └─BasicConv2d: 3-7                  [1, 64, 28, 28]           12,416\n",
       "│    │    └─Sequential: 3-8                   [1, 128, 28, 28]          129,472\n",
       "│    │    └─Sequential: 3-9                   [1, 32, 28, 28]           15,968\n",
       "│    │    └─Sequential: 3-10                  [1, 32, 28, 28]           6,208\n",
       "│    └─Inception: 2-7                         [1, 480, 28, 28]          --\n",
       "│    │    └─BasicConv2d: 3-11                 [1, 128, 28, 28]          33,024\n",
       "│    │    └─Sequential: 3-12                  [1, 192, 28, 28]          254,592\n",
       "│    │    └─Sequential: 3-13                  [1, 96, 28, 28]           85,248\n",
       "│    │    └─Sequential: 3-14                  [1, 64, 28, 28]           16,512\n",
       "│    └─MaxPool2d: 2-8                         [1, 480, 14, 14]          --\n",
       "├─Sequential: 1-4                             [1, 832, 7, 7]            --\n",
       "│    └─Inception: 2-9                         [1, 512, 14, 14]          --\n",
       "│    │    └─BasicConv2d: 3-15                 [1, 192, 14, 14]          92,544\n",
       "│    │    └─Sequential: 3-16                  [1, 208, 14, 14]          226,400\n",
       "│    │    └─Sequential: 3-17                  [1, 48, 14, 14]           27,008\n",
       "│    │    └─Sequential: 3-18                  [1, 64, 14, 14]           30,848\n",
       "│    └─Inception: 2-10                        [1, 512, 14, 14]          --\n",
       "│    │    └─BasicConv2d: 3-19                 [1, 160, 14, 14]          82,240\n",
       "│    │    └─Sequential: 3-20                  [1, 224, 14, 14]          283,808\n",
       "│    │    └─Sequential: 3-21                  [1, 64, 14, 14]           50,864\n",
       "│    │    └─Sequential: 3-22                  [1, 64, 14, 14]           32,896\n",
       "│    └─Inception: 2-11                        [1, 512, 14, 14]          --\n",
       "│    │    └─BasicConv2d: 3-23                 [1, 128, 14, 14]          65,792\n",
       "│    │    └─Sequential: 3-24                  [1, 256, 14, 14]          361,216\n",
       "│    │    └─Sequential: 3-25                  [1, 64, 14, 14]           50,864\n",
       "│    │    └─Sequential: 3-26                  [1, 64, 14, 14]           32,896\n",
       "│    └─Inception: 2-12                        [1, 528, 14, 14]          --\n",
       "│    │    └─BasicConv2d: 3-27                 [1, 112, 14, 14]          57,568\n",
       "│    │    └─Sequential: 3-28                  [1, 288, 14, 14]          447,840\n",
       "│    │    └─Sequential: 3-29                  [1, 64, 14, 14]           67,776\n",
       "│    │    └─Sequential: 3-30                  [1, 64, 14, 14]           32,896\n",
       "│    └─Inception: 2-13                        [1, 832, 14, 14]          --\n",
       "│    │    └─BasicConv2d: 3-31                 [1, 256, 14, 14]          135,680\n",
       "│    │    └─Sequential: 3-32                  [1, 320, 14, 14]          546,240\n",
       "│    │    └─Sequential: 3-33                  [1, 128, 14, 14]          119,616\n",
       "│    │    └─Sequential: 3-34                  [1, 128, 14, 14]          67,840\n",
       "│    └─MaxPool2d: 2-14                        [1, 832, 7, 7]            --\n",
       "├─Sequential: 1-5                             [1, 1024, 1, 1]           --\n",
       "│    └─Inception: 2-15                        [1, 832, 7, 7]            --\n",
       "│    │    └─BasicConv2d: 3-35                 [1, 256, 7, 7]            213,504\n",
       "│    │    └─Sequential: 3-36                  [1, 320, 7, 7]            594,880\n",
       "│    │    └─Sequential: 3-37                  [1, 128, 7, 7]            129,344\n",
       "│    │    └─Sequential: 3-38                  [1, 128, 7, 7]            106,752\n",
       "│    └─Inception: 2-16                        [1, 1024, 7, 7]           --\n",
       "│    │    └─BasicConv2d: 3-39                 [1, 384, 7, 7]            320,256\n",
       "│    │    └─Sequential: 3-40                  [1, 384, 7, 7]            824,448\n",
       "│    │    └─Sequential: 3-41                  [1, 128, 7, 7]            193,888\n",
       "│    │    └─Sequential: 3-42                  [1, 128, 7, 7]            106,752\n",
       "│    └─AdaptiveAvgPool2d: 2-17                [1, 1024, 1, 1]           --\n",
       "├─Sequential: 1-6                             [1, 1000]                 --\n",
       "│    └─Flatten: 2-18                          [1, 1024]                 --\n",
       "│    └─Dropout: 2-19                          [1, 1024]                 --\n",
       "│    └─Linear: 2-20                           [1, 1000]                 1,025,000\n",
       "===============================================================================================\n",
       "Total params: 7,005,832\n",
       "Trainable params: 7,005,832\n",
       "Non-trainable params: 0\n",
       "Total mult-adds (Units.GIGABYTES): 1.58\n",
       "===============================================================================================\n",
       "Input size (MB): 0.60\n",
       "Forward/backward pass size (MB): 51.63\n",
       "Params size (MB): 28.02\n",
       "Estimated Total Size (MB): 80.25\n",
       "==============================================================================================="
      ]
     },
     "execution_count": 7,
     "metadata": {},
     "output_type": "execute_result"
    }
   ],
   "source": [
    "\n",
    "summary(GoogLeNet(), input_size=(1, 3, 224, 224))"
   ]
  },
  {
   "cell_type": "code",
   "execution_count": null,
   "id": "363178b4",
   "metadata": {
    "ExecuteTime": {
     "start_time": "2025-06-23T20:32:19.730102Z"
    },
    "jupyter": {
     "is_executing": true
    },
    "scrolled": false
   },
   "outputs": [
    {
     "name": "stdout",
     "output_type": "stream",
     "text": [
      "Epoch: 0 Loss: 2.606550258712708 Acc: 0.07647058823529412\n",
      "Epoch: 10 Loss: 2.2719235061702605 Acc: 0.38529411764705884\n",
      "Epoch: 20 Loss: 2.113309156169679 Acc: 0.503921568627451\n",
      "Epoch: 30 Loss: 2.0002769345172147 Acc: 0.5607843137254902\n",
      "Epoch: 40 Loss: 1.8917559270071314 Acc: 0.6284313725490196\n",
      "Epoch: 50 Loss: 1.837034224634421 Acc: 0.6411764705882353\n",
      "Epoch: 60 Loss: 1.7292830929304028 Acc: 0.7029411764705882\n",
      "Epoch: 70 Loss: 1.6826403345383152 Acc: 0.6686274509803921\n",
      "Epoch: 80 Loss: 1.623576323194288 Acc: 0.7313725490196078\n",
      "Epoch: 90 Loss: 1.5993960799703835 Acc: 0.7303921568627451\n",
      "Epoch: 100 Loss: 1.5356736884130129 Acc: 0.753921568627451\n",
      "Epoch: 110 Loss: 1.4935409312449326 Acc: 0.746078431372549\n",
      "Epoch: 120 Loss: 1.5292323486531025 Acc: 0.7372549019607844\n",
      "Epoch: 130 Loss: 1.4449281253052257 Acc: 0.7617647058823529\n",
      "Epoch: 140 Loss: 1.4462733162507222 Acc: 0.7480392156862745\n",
      "Epoch: 150 Loss: 1.3743899494610434 Acc: 0.765686274509804\n",
      "Epoch: 160 Loss: 1.3530779661717445 Acc: 0.753921568627451\n",
      "Epoch: 170 Loss: 1.399456281929007 Acc: 0.7627450980392156\n",
      "Epoch: 180 Loss: 1.3696638293592578 Acc: 0.7607843137254902\n",
      "Epoch: 190 Loss: 1.3738914469911168 Acc: 0.7715686274509804\n",
      "100%|██████████| 200/200 [25:21<00:00,  7.61s/it]\n"
     ]
    },
    {
     "data": {
      "image/png": "[encoded data removed]",
      "text/plain": [
       "<Figure size 640x480 with 1 Axes>"
      ]
     },
     "metadata": {},
     "output_type": "display_data"
    },
    {
     "name": "stdout",
     "output_type": "stream",
     "text": [
      "Accuracy: 0.765686274509804\n"
     ]
    }
   ],
   "source": [
    "\n",
    "import torch\n",
    "import torch.nn as nn\n",
    "import torch.optim as optim\n",
    "from torch.utils.data import DataLoader\n",
    "from torchvision import datasets, transforms, models\n",
    "from tqdm import *\n",
    "import numpy as np\n",
    "import sys\n",
    "\n",
    "device = torch.device(\"cuda\" if torch.cuda.is_available() else \"cpu\")\n",
    "\n",
    "\n",
    "torch.manual_seed(0)\n",
    "\n",
    "\n",
    "model = GoogLeNet(num_classes=102).to(device)\n",
    "optimizer = optim.SGD(model.parameters(), lr=0.002, momentum=0.9)\n",
    "criterion = nn.CrossEntropyLoss()\n",
    "\n",
    "\n",
    "trainform_train = transforms.Compose([\n",
    "    transforms.RandomRotation(30), \n",
    "    transforms.RandomResizedCrop((224, 224)),\n",
    "    transforms.RandomHorizontalFlip(p = 0.5),\n",
    "    transforms.RandomVerticalFlip(p = 0.5), \n",
    "    transforms.ToTensor(), \n",
    "   \n",
    "    transforms.Normalize(mean=[0.485, 0.456, 0.406], std=[0.229, 0.224, 0.225])\n",
    "])\n",
    "\n",
    "\n",
    "transform_test = transforms.Compose([\n",
    "    transforms.Resize((224, 224)), \n",
    "    transforms.ToTensor(),  \n",
    "   \n",
    "    transforms.Normalize(mean=[0.485, 0.456, 0.406], std=[0.229, 0.224, 0.225])\n",
    "])\n",
    "\n",
    "\n",
    "train_dataset = datasets.Flowers102(root='../data/flowers102', split=\"test\", download=True, transform=trainform_train)\n",
    "\n",
    "train_loader = DataLoader(train_dataset, batch_size=64, shuffle=True, num_workers=4)\n",
    "\n",
    "test_dataset = datasets.Flowers102(root='../data/flowers102', split=\"train\", download=True, transform=transform_test)\n",
    "\n",
    "test_loader = DataLoader(test_dataset, batch_size=64, shuffle=False, num_workers=4)\n",
    "\n",
    "num_epochs = 200 \n",
    "loss_history = []  \n",
    "acc_history = []  \n",
    "\n",
    "\n",
    "for epoch in tqdm(range(num_epochs), file=sys.stdout):\n",
    "  \n",
    "    total_loss = 0\n",
    "    total_correct = 0\n",
    "    \n",
    "\n",
    "    model.train()\n",
    "    for inputs, labels in train_loader:\n",
    "  \n",
    "        inputs = inputs.to(device)\n",
    "        labels = labels.to(device)\n",
    "        \n",
    "\n",
    "        optimizer.zero_grad()\n",
    "        outputs = model(inputs)\n",
    "        loss = criterion(outputs, labels)\n",
    "        loss.backward()\n",
    "        optimizer.step()\n",
    "        \n",
    " \n",
    "        total_loss += loss.item()\n",
    "    \n",
    "\n",
    "    model.eval()\n",
    "    with torch.no_grad():\n",
    "        for inputs, labels in test_loader:\n",
    "\n",
    "            inputs = inputs.to(device)\n",
    "            labels = labels.to(device)\n",
    "            \n",
    "\n",
    "            outputs = model(inputs)\n",
    "\n",
    "            total_correct += (outputs.argmax(1) == labels).sum().item()\n",
    "        \n",
    "\n",
    "    loss_history.append(np.log10(total_loss))  \n",
    "    acc_history.append(total_correct / len(test_dataset))\n",
    "    \n",
    "\n",
    "    if epoch % 10 == 0:\n",
    "        tqdm.write(\"Epoch: {0} Loss: {1} Acc: {2}\".format(epoch, loss_history[-1], acc_history[-1]))\n",
    "\n",
    "\n",
    "import matplotlib.pyplot as plt\n",
    "plt.plot(loss_history, label='loss')\n",
    "plt.plot(acc_history, label='accuracy')\n",
    "plt.legend()\n",
    "plt.show()\n",
    "\n",
    "\n",
    "print(\"Accuracy:\", acc_history[-1])"
   ]
  },
  {
   "cell_type": "code",
   "execution_count": null,
   "id": "83b20646",
   "metadata": {},
   "outputs": [],
   "source": []
  }
 ],
 "metadata": {
  "kernelspec": {
   "display_name": "venv",
   "language": "python",
   "name": "python3"
  },
  "language_info": {
   "codemirror_mode": {
    "name": "ipython",
    "version": 3
   },
   "file_extension": ".py",
   "mimetype": "text/x-python",
   "name": "python",
   "nbconvert_exporter": "python",
   "pygments_lexer": "ipython3",
   "version": "3.12.3"
  }
 },
 "nbformat": 4,
 "nbformat_minor": 5
}
